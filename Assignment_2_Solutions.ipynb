{
 "cells": [
  {
   "cell_type": "markdown",
   "metadata": {},
   "source": [
    "# Task-1  # Question: 1.1"
   ]
  },
  {
   "cell_type": "code",
   "execution_count": 1,
   "metadata": {},
   "outputs": [
    {
     "name": "stdout",
     "output_type": "stream",
     "text": [
      "Enter the values : 14,1,0.5\n",
      "The list in the given range is :  [14.0, 1.0, 0.5]\n",
      "The sum of given numbers is :  15.5\n"
     ]
    }
   ],
   "source": [
    "# myReduce() function - To Generate the sum of given numbers\n",
    "\n",
    "def myReduce(seq):\n",
    "    Total = seq[0]\n",
    "    for i in range(1,len(seq)):\n",
    "        Total = Total + seq[i]\n",
    "    return Total\n",
    "        \n",
    "#Input\n",
    "input_list = input(\"Enter the values : \")\n",
    "num_list = input_list.split(',')\n",
    "num_list = [float(value) for value in num_list]\n",
    "print(\"The list in the given range is : \", num_list)\n",
    "\n",
    "Output = myReduce(num_list)\n",
    "print(\"The sum of given numbers is : \", Output)\n"
   ]
  },
  {
   "cell_type": "markdown",
   "metadata": {},
   "source": [
    "# Task-1  # Question: 1.2"
   ]
  },
  {
   "cell_type": "code",
   "execution_count": 2,
   "metadata": {},
   "outputs": [
    {
     "name": "stdout",
     "output_type": "stream",
     "text": [
      "The list in the given range is :  [0, 1, 2, 3, 4, 5, 6, 7, 8, 9, 10, 11, 12, 13, 14, 15, 16, 17, 18, 19]\n",
      "The even number list in the given range is :  [0, 2, 4, 6, 8, 10, 12, 14, 16, 18]\n"
     ]
    }
   ],
   "source": [
    "# myFilter() - To generate the list of even numbers in a give range \"n\"\n",
    "\n",
    "def myfilter(input_list):\n",
    "    for i in input_list:\n",
    "        if i%2 == 0:\n",
    "            Output.append(i)\n",
    "\n",
    "#let range\n",
    "n=20\n",
    "\n",
    "#To generate list of numbers in the given range \"n\"\n",
    "num_list = list(range(n))\n",
    "print(\"The list in the given range is : \", num_list)\n",
    "\n",
    "Output = list()\n",
    "myfilter(num_list)\n",
    "print(\"The even number list in the given range is : \", Output)\n"
   ]
  },
  {
   "cell_type": "markdown",
   "metadata": {},
   "source": [
    "# Task-1  # Question: 2"
   ]
  },
  {
   "cell_type": "code",
   "execution_count": 3,
   "metadata": {},
   "outputs": [
    {
     "name": "stdout",
     "output_type": "stream",
     "text": [
      "## First list comprehension\n",
      "\n",
      "Given String is : ACADGILD\n",
      "Generated comprehension from given string is :  ['A', 'C', 'A', 'D', 'G', 'I', 'L', 'D']\n"
     ]
    }
   ],
   "source": [
    "# To split a given string as list comprehension\n",
    "print(\"## First list comprehension\\n\")\n",
    "\n",
    "#Given String\n",
    "name = \"ACADGILD\"\n",
    "print(\"Given String is :\",name)\n",
    "#Logic for comprehension \n",
    "output =[x for x in name if x !=\" \"]\n",
    "print(\"Generated comprehension from given string is : \",output)"
   ]
  },
  {
   "cell_type": "code",
   "execution_count": 4,
   "metadata": {},
   "outputs": [
    {
     "name": "stdout",
     "output_type": "stream",
     "text": [
      "\n",
      "## Second list comprehension\n",
      "\n",
      "Given input list is :  ['x', 'y', 'z']\n",
      "Generated comprehension from given input is :  ['x', 'xx', 'xxx', 'xxxx', 'y', 'yy', 'yyy', 'yyyy', 'z', 'zz', 'zzz', 'zzzz']\n"
     ]
    }
   ],
   "source": [
    "# To generate the comprehension ['x','xx','xxx','xxxx','y','yy','yyy','yyyy','z','zz','zzz','zzzz']\n",
    "\n",
    "print(\"\\n## Second list comprehension\\n\")\n",
    "\n",
    "input_list =list('xyz')\n",
    "print(\"Given input list is : \",input_list)\n",
    "counter = range(1,5)\n",
    "output =[char*num for char in input_list for num in counter]\n",
    "print(\"Generated comprehension from given input is : \",output)"
   ]
  },
  {
   "cell_type": "code",
   "execution_count": 5,
   "metadata": {},
   "outputs": [
    {
     "name": "stdout",
     "output_type": "stream",
     "text": [
      "\n",
      "## Third list comprehension\n",
      "\n",
      "Given input list is :  ['x', 'y', 'z']\n",
      "Generated comprehension from given input is :  ['x', 'y', 'z', 'xx', 'yy', 'zz', 'xxx', 'yyy', 'zzz', 'xxxx', 'yyyy', 'zzzz']\n"
     ]
    }
   ],
   "source": [
    "# To generate the comprehension ['x','y','z', 'xx','yy','zz','xxx','yyy','zzz']\n",
    "\n",
    "print(\"\\n## Third list comprehension\\n\")\n",
    "\n",
    "input_list =list('xyz')\n",
    "print(\"Given input list is : \",input_list)\n",
    "counter = range(1,5)\n",
    "output =[char*num for num in counter for char in input_list]\n",
    "print(\"Generated comprehension from given input is : \",output)\n"
   ]
  },
  {
   "cell_type": "code",
   "execution_count": 6,
   "metadata": {},
   "outputs": [
    {
     "name": "stdout",
     "output_type": "stream",
     "text": [
      "\n",
      "## Fourth list comprehension\n",
      "\n",
      "Given input list is :  [2, 3, 4]\n",
      "Generated comprehension from given input is :  [[2], [3], [4], [3], [4], [5], [4], [5], [6]]\n"
     ]
    }
   ],
   "source": [
    "# To generate the comprehension [[2], [3], [4], [3], [4], [5], [4], [5], [6]]\n",
    "\n",
    "print(\"\\n## Fourth list comprehension\\n\")\n",
    "\n",
    "num_list = list(range(2,5))\n",
    "print(\"Given input list is : \",num_list)\n",
    "counter = range(0,3)\n",
    "output = [[num+i] for num in num_list for i in counter ]\n",
    "print(\"Generated comprehension from given input is : \",output)"
   ]
  },
  {
   "cell_type": "code",
   "execution_count": 8,
   "metadata": {},
   "outputs": [
    {
     "name": "stdout",
     "output_type": "stream",
     "text": [
      "\n",
      "## Fifth list comprehension\n",
      "\n",
      "Given input list is :  [2, 3, 4, 5]\n",
      "Generated comprehension from given input is :  [[2, 3, 4, 5], [3, 4, 5, 6], [4, 5, 6, 7], [5, 6, 7, 8]]\n"
     ]
    }
   ],
   "source": [
    "# To generate the comprehension [[2, 3, 4, 5], [3, 4, 5, 6], [4, 5, 6, 7], [5, 6, 7, 8]]\n",
    "print(\"\\n## Fifth list comprehension\\n\")\n",
    "\n",
    "num_list = list(range(2,6))\n",
    "print(\"Given input list is : \",num_list)\n",
    "counter = range(0,4)\n",
    "output = [[num+i for i in counter] for num in num_list]\n",
    "print(\"Generated comprehension from given input is : \",output)"
   ]
  },
  {
   "cell_type": "code",
   "execution_count": 9,
   "metadata": {},
   "outputs": [
    {
     "name": "stdout",
     "output_type": "stream",
     "text": [
      "\n",
      "## Sixth list comprehension\n",
      "\n",
      "Given input list is :  range(1, 4)\n",
      "Generated comprehension from given input is :  [(1, 1), (2, 1), (3, 1), (1, 2), (2, 2), (3, 2), (1, 3), (2, 3), (3, 3)]\n"
     ]
    }
   ],
   "source": [
    "# To generate the comprehension [(1, 1), (2, 1), (3, 1), (1, 2), (2, 2), (3, 2), (1, 3), (2, 3), (3, 3)]\n",
    "print(\"\\n## Sixth list comprehension\\n\")\n",
    "\n",
    "num_list = range(1,4)\n",
    "print(\"Given input list is : \",num_list)\n",
    "counter = range(1,4)\n",
    "output = [(num,i)  for i in counter for num in num_list]\n",
    "print(\"Generated comprehension from given input is : \",output)"
   ]
  },
  {
   "cell_type": "markdown",
   "metadata": {},
   "source": [
    "# Task-1  # Question: 3 (approach-1)"
   ]
  },
  {
   "cell_type": "code",
   "execution_count": 11,
   "metadata": {},
   "outputs": [
    {
     "name": "stdout",
     "output_type": "stream",
     "text": [
      "Enter the words : Python,Scala,R\n",
      "The list of input strings are :  ['Python', 'Scala', 'R']\n",
      "longest word in the given list of words is :  Python\n"
     ]
    }
   ],
   "source": [
    "# Write a function to find the longest word in a given list of words\n",
    "\n",
    "def longestWord(input):\n",
    "    return max(list_of_strings, key=len)\n",
    "\n",
    "# Input\n",
    "user_input = (input (\"Enter the words : \"))\n",
    "\n",
    "#convert input words to a list\n",
    "list_of_strings = list(map(str,user_input.split(',')))\n",
    "print(\"The list of input strings are : \", list_of_strings)\n",
    "\n",
    "#method to check the longest word\n",
    "Output = longestWord(list_of_strings)\n",
    "print(\"longest word in the given list of words is : \", Output)"
   ]
  },
  {
   "cell_type": "markdown",
   "metadata": {},
   "source": [
    "# Task-1  # Question: 3 (approach-2)"
   ]
  },
  {
   "cell_type": "code",
   "execution_count": 13,
   "metadata": {},
   "outputs": [
    {
     "name": "stdout",
     "output_type": "stream",
     "text": [
      "Enter the words : Scala,R,Python\n",
      "The list of input strings are :  ['Scala', 'R', 'Python']\n",
      "longest word in the given list of words is :  Python\n"
     ]
    }
   ],
   "source": [
    "# Write a function to find the longest word in a given list of words\n",
    "\n",
    "def longestWord(input):\n",
    "    max_len = len(input[0])\n",
    "    index = 0\n",
    "\n",
    "    for i in range(1,len(input)):\n",
    "        if max_len < len(input[i]):\n",
    "            max_len = len(input[i])\n",
    "            index = i\n",
    "    return index\n",
    "            \n",
    "# Input\n",
    "user_input = (input (\"Enter the words : \"))\n",
    "\n",
    "#convert input words to a list\n",
    "list_of_strings = list(map(str,user_input.split(',')))\n",
    "print(\"The list of input strings are : \", list_of_strings)\n",
    "\n",
    "#method to check the longest word\n",
    "index = longestWord(list_of_strings)\n",
    "print(\"longest word in the given list of words is : \", list_of_strings[index])"
   ]
  },
  {
   "cell_type": "markdown",
   "metadata": {},
   "source": [
    "# Task-2  # Question:1.1"
   ]
  },
  {
   "cell_type": "code",
   "execution_count": 14,
   "metadata": {},
   "outputs": [
    {
     "name": "stdout",
     "output_type": "stream",
     "text": [
      "Please input the side A of a triangle: 3\n",
      "Please input the side B of a triangle: 4\n",
      "Please input the side C of a triangle: 5\n",
      "Area of triangle = 6.0\n"
     ]
    }
   ],
   "source": [
    "# To Find the area of a triangle using class concepts\n",
    "\n",
    "class Triangle:\n",
    "    def __init__(self, sideA, sideB, sideC):\n",
    "        self.sideA = sideA\n",
    "        self.sideB = sideB\n",
    "        self.sideC = sideC\n",
    "    \n",
    "class Area(Triangle):\n",
    "    def __init__(self, sideA, sideB, sideC):\n",
    "        super(Area, self).__init__(sideA, sideB, sideC)\n",
    "        \n",
    "    def getArea(self):\n",
    "        s = (sideA+sideB+sideC)/2\n",
    "        return (s*(s-sideA)*(s-sideB)*(s-sideC))**0.5\n",
    "    \n",
    "sideA = float(input(\"Please input the side A of a triangle: \"))\n",
    "sideB = float(input(\"Please input the side B of a triangle: \"))\n",
    "sideC = float(input(\"Please input the side C of a triangle: \"))\n",
    "\n",
    "area_of_triangle = Area(sideA,sideB,sideC)\n",
    "\n",
    "print (\"Area of triangle = \" + str(area_of_triangle.getArea()) )"
   ]
  },
  {
   "cell_type": "markdown",
   "metadata": {},
   "source": [
    "# Task-2  # Question: 1.2"
   ]
  },
  {
   "cell_type": "code",
   "execution_count": 15,
   "metadata": {},
   "outputs": [
    {
     "name": "stdout",
     "output_type": "stream",
     "text": [
      "Please enter the words: book,pen,scale,board,eraser\n",
      "Input words are:  ['book', 'pen', 'scale', 'board', 'eraser']\n",
      "Please input the string length: 4\n",
      "List of words that are longer than 4 characters : ['scale', 'board', 'eraser'] \n"
     ]
    }
   ],
   "source": [
    "#Find the longest words when compared with a given length\n",
    "\n",
    "def filter_long_words(list_of_strings,length):\n",
    "    for x in list_of_strings:\n",
    "        if(len(x) > length):\n",
    "            longestWords.append(x)\n",
    "\n",
    "user_input = input(\"Please enter the words: \")\n",
    "list_of_strings = list(map(str,user_input.split(',')))\n",
    "print(\"Input words are: \",list_of_strings)\n",
    "\n",
    "#input string length\n",
    "str_len = int(input(\"Please input the string length: \"))\n",
    "longestWords = []\n",
    "filter_long_words(list_of_strings,str_len)\n",
    "print(\"List of words that are longer than %s characters : %s \"%(str_len,longestWords))\n"
   ]
  },
  {
   "cell_type": "markdown",
   "metadata": {},
   "source": [
    "# Task-2  # Question: 2.1"
   ]
  },
  {
   "cell_type": "code",
   "execution_count": 16,
   "metadata": {},
   "outputs": [
    {
     "name": "stdout",
     "output_type": "stream",
     "text": [
      "Please enter the words: df,hjuy,k\n",
      "Input strings are:  ['df', 'hjuy', 'k']\n",
      "The list of individual lengths of input strings :  [2, 4, 1]\n"
     ]
    }
   ],
   "source": [
    "def len_of_strings(list_of_strings):\n",
    "    for x in list_of_strings:\n",
    "        output.append(len(x))\n",
    "\n",
    "user_input = input(\"Please enter the words: \")\n",
    "list_of_strings = list(map(str,user_input.split(',')))\n",
    "print(\"Input strings are: \",list_of_strings)\n",
    "output =[]\n",
    "\n",
    "len_of_strings(list_of_strings)\n",
    "print(\"The list of individual lengths of input strings : \",output)"
   ]
  },
  {
   "cell_type": "markdown",
   "metadata": {},
   "source": [
    "# Task-2  # Question: 2.2"
   ]
  },
  {
   "cell_type": "code",
   "execution_count": 18,
   "metadata": {},
   "outputs": [
    {
     "name": "stdout",
     "output_type": "stream",
     "text": [
      "Please enter a character: e\n",
      "True\n"
     ]
    }
   ],
   "source": [
    "#Program to check if a given character is vowel and if Yes, return True \n",
    "\n",
    "def check_if_vowel(char):\n",
    "    vowels ='aeiou'\n",
    "    if char in vowels:\n",
    "        return True\n",
    "    else:\n",
    "        return False\n",
    "    \n",
    "user_input = input(\"Please enter a character: \")\n",
    "if len(user_input) == 1:\n",
    "    char = user_input.lower()\n",
    "    is_vowel =check_if_vowel(char)\n",
    "    print(is_vowel)\n",
    "else:\n",
    "    print(\"oops!! Please enter a single character\")\n"
   ]
  }
 ],
 "metadata": {
  "kernelspec": {
   "display_name": "Python 3",
   "language": "python",
   "name": "python3"
  },
  "language_info": {
   "codemirror_mode": {
    "name": "ipython",
    "version": 3
   },
   "file_extension": ".py",
   "mimetype": "text/x-python",
   "name": "python",
   "nbconvert_exporter": "python",
   "pygments_lexer": "ipython3",
   "version": "3.6.5"
  }
 },
 "nbformat": 4,
 "nbformat_minor": 2
}
